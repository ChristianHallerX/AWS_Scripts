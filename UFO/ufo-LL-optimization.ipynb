{
 "cells": [
  {
   "cell_type": "markdown",
   "metadata": {},
   "source": [
    "## UFO Sightings Evaluation and Optimization Lab\n",
    "\n",
    "### Goal: Run the AWS Console-tuned hyperparameters in a notebook training job."
   ]
  },
  {
   "cell_type": "code",
   "execution_count": null,
   "metadata": {},
   "outputs": [],
   "source": [
    "import pandas as pd\n",
    "import numpy as np\n",
    "from datetime import datetime\n",
    "\n",
    "import boto3\n",
    "from sagemaker import get_execution_role\n",
    "import sagemaker"
   ]
  },
  {
   "cell_type": "code",
   "execution_count": null,
   "metadata": {},
   "outputs": [],
   "source": [
    "role = get_execution_role()\n",
    "bucket='ml_ufo_sightings'"
   ]
  },
  {
   "cell_type": "markdown",
   "metadata": {},
   "source": [
    "Pipe Mode protobuf files were saved on S3 previously."
   ]
  },
  {
   "cell_type": "code",
   "execution_count": null,
   "metadata": {},
   "outputs": [],
   "source": [
    "train_file = 'ufo_sightings_train_recordIO_protobuf.data'\n",
    "training_recordIO_protobuf_location = 's3://{}/algorithms_lab/linearlearner_train/{}'.format(bucket, train_file)\n",
    "print('The Pipe mode recordIO protobuf training data: {}'.format(training_recordIO_protobuf_location))\n",
    "\n",
    "validation_file = 'ufo_sightings_validatioin_recordIO_protobuf.data'\n",
    "validate_recordIO_protobuf_location = 's3://{}/algorithms_lab/linearlearner_validation/{}'.format(bucket, validation_file)\n",
    "print('The Pipe mode recordIO protobuf validation data: {}'.format(validate_recordIO_protobuf_location))"
   ]
  },
  {
   "cell_type": "markdown",
   "metadata": {},
   "source": [
    "Call Linear Learner container from ECR repository."
   ]
  },
  {
   "cell_type": "code",
   "execution_count": null,
   "metadata": {},
   "outputs": [],
   "source": [
    "from sagemaker.amazon.amazon_estimator import get_image_uri\n",
    "import sagemaker\n",
    "\n",
    "container = get_image_uri(boto3.Session().region_name, 'linear-learner', \"1\")"
   ]
  },
  {
   "cell_type": "code",
   "execution_count": null,
   "metadata": {
    "scrolled": true
   },
   "outputs": [],
   "source": [
    "# training job name\n",
    "job_name = 'ufo-linear-learner-job-optimized-{}'.format(datetime.now().strftime(\"%Y%m%d%H%M%S\"))\n",
    "print('Job name: {}'.format(job_name))\n",
    "\n",
    "# model output path on S3\n",
    "output_location = 's3://{}/optimization_evaluation_lab/linearlearner_optimized_output'.format(bucket)"
   ]
  },
  {
   "cell_type": "code",
   "execution_count": null,
   "metadata": {},
   "outputs": [],
   "source": [
    "%%time\n",
    "sess = sagemaker.Session()\n",
    "\n",
    "# Setup the Linear Leaner algorithm from the ECR container\n",
    "linear = sagemaker.estimator.Estimator(container,\n",
    "                                       role, \n",
    "                                       train_instance_count=1, \n",
    "                                       train_instance_type='ml.c4.xlarge',\n",
    "                                       output_path=output_location,\n",
    "                                       sagemaker_session=sess,\n",
    "                                       input_mode='Pipe')\n",
    "\n",
    "# copied over from AWS console optimizer.\n",
    "linear.set_hyperparameters( feature_dim=22, \n",
    "                            predictor_type='multiclass_classifier',\n",
    "                            num_classes=3,\n",
    "                            early_stopping_patience=3,\n",
    "                            epochs=15,\n",
    "                            l1=0.064774153906635,\n",
    "                            learning_rate=0.0932904024421902,\n",
    "                            loss='auto',\n",
    "                            mini_batch_size=744,\n",
    "                            normalize_data='true',\n",
    "                            normalize_label='auto',\n",
    "                            num_models='auto',\n",
    "                            optimizer='auto',\n",
    "                            unbias_data='auto',\n",
    "                            unbias_label='auto',\n",
    "                            use_bias='true',\n",
    "                            wd=0.000212481391205101\n",
    "                          )\n",
    "\n",
    "\n",
    "# Launch training job. This method calls the CreateTrainingJob API\n",
    "data_channels = {'train': training_recordIO_protobuf_location,\n",
    "                 'validation': validate_recordIO_protobuf_location\n",
    "                }\n",
    "\n",
    "linear.fit(data_channels, job_name=job_name)"
   ]
  },
  {
   "cell_type": "markdown",
   "metadata": {},
   "source": [
    "- Compare time and validation accuracy to baseline model without optimization.\n",
    "- Stop notebook instance."
   ]
  }
 ],
 "metadata": {
  "kernelspec": {
   "display_name": "Python 3",
   "language": "python",
   "name": "python3"
  },
  "language_info": {
   "codemirror_mode": {
    "name": "ipython",
    "version": 3
   },
   "file_extension": ".py",
   "mimetype": "text/x-python",
   "name": "python",
   "nbconvert_exporter": "python",
   "pygments_lexer": "ipython3",
   "version": "3.7.9"
  }
 },
 "nbformat": 4,
 "nbformat_minor": 4
}
