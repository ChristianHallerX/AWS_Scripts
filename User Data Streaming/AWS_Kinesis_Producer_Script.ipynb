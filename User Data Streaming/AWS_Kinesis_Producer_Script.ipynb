{
 "cells": [
  {
   "cell_type": "markdown",
   "metadata": {},
   "source": [
    "## User Streaming Data (Producer)\n",
    "#### Send JSON data obtained from https://randomuser.me/ to AWS Kinesis Data Streams (one per second)"
   ]
  },
  {
   "cell_type": "code",
   "execution_count": null,
   "metadata": {},
   "outputs": [],
   "source": [
    "import requests\n",
    "import boto3\n",
    "import uuid\n",
    "import time\n",
    "import random\n",
    "import json\n",
    "\n",
    "# AWS user's credentials (better to use role or env variables)\n",
    "client = boto3.client('kinesis', region_name='us-east-1',\n",
    "                        aws_access_key_id='insert id',\n",
    "                        aws_secret_access_key='insert secret key',\n",
    "                        )\n",
    "\n",
    "# generate unique ID for each submission\n",
    "partition_key = str(uuid.uuid4())\n",
    "\n",
    "# Request 500 random users records\n",
    "number_of_results = 500\n",
    "r = requests.get('https://randomuser.me/api/?exc=login&results=' + str(number_of_results))\n",
    "data = r.json()[\"results\"]\n",
    "\n",
    "# choose random record from data and submit one per second\n",
    "while True:\n",
    "    random_user_index = int(random.uniform(0, (number_of_results - 1)))\n",
    "    random_user = data[random_user_index]\n",
    "    random_user = json.dumps(data[random_user_index])\n",
    "        \n",
    "    # Submit record to Kinesis stream that was set up in CLI or Cloud Console\n",
    "    client.put_record(\n",
    "        StreamName='insert name here',\n",
    "        Data=random_user,\n",
    "        PartitionKey=partition_key)\n",
    "        \n",
    "    # wait 1 second before next record\n",
    "    time.sleep(random.uniform(0, 1))"
   ]
  },
  {
   "cell_type": "code",
   "execution_count": null,
   "metadata": {},
   "outputs": [],
   "source": []
  }
 ],
 "metadata": {
  "kernelspec": {
   "display_name": "Python 3",
   "language": "python",
   "name": "python3"
  },
  "language_info": {
   "codemirror_mode": {
    "name": "ipython",
    "version": 3
   },
   "file_extension": ".py",
   "mimetype": "text/x-python",
   "name": "python",
   "nbconvert_exporter": "python",
   "pygments_lexer": "ipython3",
   "version": "3.7.9"
  }
 },
 "nbformat": 4,
 "nbformat_minor": 4
}
